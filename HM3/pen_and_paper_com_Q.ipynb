{
 "cells": [
  {
   "cell_type": "markdown",
   "metadata": {},
   "source": [
    "## Exercicio 1"
   ]
  },
  {
   "cell_type": "code",
   "execution_count": 1,
   "metadata": {},
   "outputs": [
    {
     "name": "stdout",
     "output_type": "stream",
     "text": [
      "[[3.3159292 ]\n",
      " [0.11371681]]\n"
     ]
    }
   ],
   "source": [
    "import numpy as np\n",
    "\n",
    "def transformation(y1, y2):\n",
    "    res = []\n",
    "\n",
    "    for i in range(len(y1)):\n",
    "        res.append([1, y1[i] * y2[i]])\n",
    "\n",
    "    return np.array(res)\n",
    "\n",
    "y1 = np.array([1, 1, 3, 3, 2])\n",
    "y2 = np.array([1, 3, 2, 3, 4])\n",
    "\n",
    "X = transformation(y1, y2)\n",
    "Z = np.array([[1.25], [7.0], [2.7], [3.2], [5.5]])\n",
    "\n",
    "XT = X.T\n",
    "X_mul_XT = np.dot(XT, X)\n",
    "X_mul_XT_inv = np.linalg.pinv(X_mul_XT)\n",
    "\n",
    "W = np.dot(np.dot(X_mul_XT_inv, XT), Z)\n",
    "print(W)\n"
   ]
  },
  {
   "cell_type": "markdown",
   "metadata": {},
   "source": [
    "## Exercicio 2"
   ]
  },
  {
   "cell_type": "code",
   "execution_count": 26,
   "metadata": {},
   "outputs": [
    {
     "name": "stdout",
     "output_type": "stream",
     "text": [
      "[[ 0.45390071 -0.06382979]\n",
      " [-0.06382979  0.0141844 ]]\n",
      "[[1.81808511]\n",
      " [0.32375887]]\n"
     ]
    }
   ],
   "source": [
    "import numpy as np\n",
    "\n",
    "def transformation(y1, y2):\n",
    "    res = []\n",
    "\n",
    "    for i in range(len(y1)):\n",
    "        res.append([1, y1[i] * y2[i]])\n",
    "\n",
    "    return np.array(res)\n",
    "\n",
    "y1 = np.array([1, 1, 3, 3, 2])\n",
    "y2 = np.array([1, 3, 2, 3, 4])\n",
    "\n",
    "X = transformation(y1, y2)\n",
    "Z = np.array([[1.25], [7.0], [2.7], [3.2], [5.5]])\n",
    "\n",
    "XT = X.T\n",
    "I = np.eye(2)\n",
    "X_mul_XT = np.dot(XT, X)\n",
    "X_mul_XT_inv = np.linalg.pinv(X_mul_XT+ I)\n",
    "print(X_mul_XT_inv)\n",
    "\n",
    "W = np.dot(np.dot(X_mul_XT_inv, XT), Z)\n",
    "print(W)"
   ]
  },
  {
   "cell_type": "markdown",
   "metadata": {},
   "source": [
    "Com a introdução da regularização (Ridge Regression), como era esperado, observamos que os coeficientes foram reduzidos, aproximando-se de zero. Esse ajuste contribui para reduzir a complexidade do modelo e, consequentemente, ajuda a prevenir o overfitting, melhorando a capacidade de generalização."
   ]
  },
  {
   "cell_type": "markdown",
   "metadata": {},
   "source": [
    "## Exercicio 3"
   ]
  },
  {
   "cell_type": "markdown",
   "metadata": {},
   "source": [
    "#### RMSE - Regressão Linear"
   ]
  },
  {
   "cell_type": "code",
   "execution_count": 2,
   "metadata": {},
   "outputs": [
    {
     "name": "stdout",
     "output_type": "stream",
     "text": [
      "Para a regressão linear utilizando a forma fechada OLS\n",
      "Valores Esperados para as observações de treino: \n",
      "[[3.42964602]\n",
      " [3.65707965]\n",
      " [3.99823009]\n",
      " [4.33938053]\n",
      " [4.22566372]]\n",
      "Valores Esperados para as observações novas: \n",
      "[[3.77079646]\n",
      " [3.54336283]\n",
      " [3.88451327]]\n",
      "\n",
      "RMSE de treino = 2.0264992265096593\n",
      "RMSE com observações novas = 2.465589706294614\n"
     ]
    }
   ],
   "source": [
    "print(\"Para a regressão linear utilizando a forma fechada OLS\")\n",
    "import numpy as np\n",
    "\n",
    "def transformation(y1, y2):\n",
    "    res = []\n",
    "\n",
    "    for i in range(len(y1)):\n",
    "        res.append([1, y1[i] * y2[i]])\n",
    "\n",
    "    return np.array(res)\n",
    "\n",
    "def calculateRMSE(expected_values, real_values):\n",
    "    res = 0\n",
    "    for i in range(len(expected_values)):\n",
    "        res += ((real_values[i][0] - expected_values[i][0])**2) / len(expected_values)\n",
    "    \n",
    "    return np.sqrt(res)\n",
    "\n",
    "y1_train = np.array([1, 1, 3, 3, 2])\n",
    "y2_train = np.array([1, 3, 2, 3, 4])\n",
    "\n",
    "X = transformation(y1, y2)\n",
    "Z = np.array([[1.25], [7.0], [2.7], [3.2], [5.5]]) # Valores reais das observações do DataSet\n",
    "\n",
    "y1_new = np.array([2, 1, 5])\n",
    "y2_new = np.array([2, 2, 1])\n",
    "\n",
    "new_X = transformation(y1_new, y2_new)\n",
    "new_Z = np.array([[0.7], [1.1], [2.2]]) # Valores reais das novas observações\n",
    "\n",
    "# Cálculo apenas com X e Z pois utilizámos apenas as observações do DataSet\n",
    "# para fazer a regressão linear\n",
    "XT = X.T\n",
    "X_mul_XT = np.dot(XT, X)\n",
    "X_mul_XT_inv = np.linalg.pinv(X_mul_XT)\n",
    "W = np.dot(np.dot(X_mul_XT_inv, XT), Z)\n",
    "\n",
    "# Valores esperados para todas as observações\n",
    "Z_esperado_train = np.dot(X, W)\n",
    "print(f\"Valores Esperados para as observações de treino: \\n{Z_esperado_train}\")\n",
    "\n",
    "Z_esperado_new = np.dot(new_X, W)\n",
    "print(f\"Valores Esperados para as observações novas: \\n{Z_esperado_new}\")\n",
    "\n",
    "print()\n",
    "\n",
    "print(f\"RMSE de treino = {calculateRMSE(Z_esperado_train, Z)}\")\n",
    "print(f\"RMSE com observações novas = {calculateRMSE(Z_esperado_new, new_Z)}\")"
   ]
  },
  {
   "cell_type": "markdown",
   "metadata": {},
   "source": [
    "#### RMSE - Ridge Regression"
   ]
  },
  {
   "cell_type": "code",
   "execution_count": 31,
   "metadata": {},
   "outputs": [
    {
     "name": "stdout",
     "output_type": "stream",
     "text": [
      "Para a Ridge Regression com fator de penalidade lambda = 1\n",
      "[[1.81808511]\n",
      " [0.32375887]]\n",
      "\n",
      "Valores Esperados para as observações de treino: \n",
      "[[2.14184397]\n",
      " [2.7893617 ]\n",
      " [3.7606383 ]\n",
      " [4.73191489]\n",
      " [4.40815603]]\n",
      "Valores Esperados para as observações novas: \n",
      "[[3.11312057]\n",
      " [2.46560284]\n",
      " [3.43687943]]\n",
      "\n",
      "RMSE de treino = 2.1535412995264682\n",
      "RMSE com observações novas = 1.75289215409223\n"
     ]
    }
   ],
   "source": [
    "print(\"Para a Ridge Regression com fator de penalidade lambda = 1\")\n",
    "import numpy as np\n",
    "\n",
    "def transformation(y1, y2):\n",
    "    res = []\n",
    "\n",
    "    for i in range(len(y1)):\n",
    "        res.append([1, y1[i] * y2[i]])\n",
    "\n",
    "    return np.array(res)\n",
    "\n",
    "def calculateRMSE(expected_values, real_values):\n",
    "    res = 0\n",
    "    for i in range(len(expected_values)):\n",
    "        res += ((real_values[i][0] - expected_values[i][0])**2) / len(expected_values)\n",
    "    \n",
    "    return np.sqrt(res)\n",
    "\n",
    "y1_train = np.array([1, 1, 3, 3, 2])\n",
    "y2_train = np.array([1, 3, 2, 3, 4])\n",
    "\n",
    "X = transformation(y1, y2)\n",
    "Z = np.array([[1.25], [7.0], [2.7], [3.2], [5.5]]) # Valores reais das observações do DataSet\n",
    "\n",
    "y1_new = np.array([2, 1, 5])\n",
    "y2_new = np.array([2, 2, 1])\n",
    "\n",
    "new_X = transformation(y1_new, y2_new)\n",
    "new_Z = np.array([[0.7], [1.1], [2.2]]) # Valores reais das novas observações\n",
    "\n",
    "\n",
    "# Cálculo apenas com X e Z pois utilizámos apenas as observações do DataSet\n",
    "# para fazer a regressão linear\n",
    "XT = X.T\n",
    "I = np.eye(2) # Matriz identidade, como lamda = 1, é apenas a identidade que precisamos de somar\n",
    "X_mul_XT = np.dot(XT, X)\n",
    "X_mul_XT_inv = np.linalg.pinv(X_mul_XT+ I)\n",
    "W = np.dot(np.dot(X_mul_XT_inv, XT), Z)\n",
    "\n",
    "# Valores esperados para todas as observações\n",
    "Z_esperado_train = np.dot(X, W)\n",
    "print(f\"Valores Esperados para as observações de treino: \\n{Z_esperado_train}\")\n",
    "\n",
    "Z_esperado_new = np.dot(new_X, W)\n",
    "print(f\"Valores Esperados para as observações novas: \\n{Z_esperado_new}\")\n",
    "\n",
    "print()\n",
    "\n",
    "print(f\"RMSE de treino = {calculateRMSE(Z_esperado_train, Z)}\")\n",
    "print(f\"RMSE com observações novas = {calculateRMSE(Z_esperado_new, new_Z)}\")"
   ]
  },
  {
   "cell_type": "markdown",
   "metadata": {},
   "source": [
    "Como o RMSE nos dados de teste para o modelo regularizado (Ridge) é menor do que o RMSE do modelo não regularizado, podemos concluir que a regularização melhorou a capacidade de generalização do modelo, reduzindo o erro e tornando as previsões mais precisas, o que era esperado devido à penalização de coeficientes excessivamente altos.\n",
    "\n",
    "Por outro lado, o RMSE nos dados de treino é maior no modelo regularizado do que no modelo não regularizado. Isto ocorre porque a regularização impõe restrições nos coeficientes, evitando que o modelo se ajuste demasiado aos dados de treino (overfitting), o que leva a um maior erro nesse conjunto.\n",
    "\n",
    "No entanto, esta ligeira perda de desempenho para os dados de treino é compensada por uma melhor performance nos dados de teste, indicando que o modelo regularizado está menos suscetível a overfitting e, portanto, tem maior capacidade de generalização."
   ]
  },
  {
   "cell_type": "markdown",
   "metadata": {},
   "source": [
    "## Exercicio 4"
   ]
  },
  {
   "cell_type": "code",
   "execution_count": 1,
   "metadata": {},
   "outputs": [
    {
     "name": "stdout",
     "output_type": "stream",
     "text": [
      " X_2:\n",
      "[[0.46148762]\n",
      " [0.3093444 ]\n",
      " [0.22916797]]\n",
      "\n",
      "New W_2 Weights:\n",
      "[[0.98615537 1.98615537 1.9815405 ]\n",
      " [1.02071967 2.02071967 1.02762622]\n",
      " [0.99312496 0.99312496 0.99083328]]\n",
      "\n",
      "New b_2 bias:\n",
      "[[0.95385124]\n",
      " [1.06906556]\n",
      " [0.9770832 ]]\n",
      "\n",
      "New W_1 Weights:\n",
      "[[0.1        0.1       ]\n",
      " [0.1229168  0.2229168 ]\n",
      " [0.15385124 0.05385124]]\n",
      "\n",
      "New b_1 bias:\n",
      "[[0.1       ]\n",
      " [0.0229168 ]\n",
      " [0.05385124]]\n",
      "\n"
     ]
    }
   ],
   "source": [
    "import numpy as np\n",
    "\n",
    "def transformation(y1, y2):\n",
    "    res = []\n",
    "\n",
    "    for i in range(len(y1)):\n",
    "        res.append([1, y1[i] * y2[i]])\n",
    "\n",
    "    return np.array(res)\n",
    "\n",
    "def softmax(Z_out):\n",
    "    exp_z = np.exp(Z_out)\n",
    "    return exp_z / np.sum(exp_z)\n",
    "\n",
    "# Fórmula geral do update\n",
    "def update(to_update, learning_rate, grad_loss):\n",
    "    return to_update - learning_rate * grad_loss\n",
    "\n",
    "# Cálculo do gradiante_out quando softmax + cross entropy loss\n",
    "def calculate_out_gradiant(X_out, t):\n",
    "    return X_out - t\n",
    "\n",
    "# Cálculo dos gradientes intermédios (não há função de ativação)\n",
    "def calculate_intermedian_gradiant(W_i_plus_1, grad_loss_i_plus_1):\n",
    "    return np.dot(W_i_plus_1, grad_loss_i_plus_1)\n",
    "# Forward Propagation cálculo\n",
    "y1 = [1]\n",
    "y2 = [1]\n",
    "\n",
    "X_0 = transformation(y1, y2).T\n",
    "W_1 = np.array([[0.1 , 0.1], [0.1, 0.2], [0.2, 0.1]])\n",
    "b_1 = np.array([[0.1], [0], [0.1]])\n",
    "\n",
    "Z_1 = np.dot(W_1, X_0) + b_1 # Hidden layers não têm função de ativação\n",
    "\n",
    "W_2 = np.array([[1, 2, 2], [1, 2, 1], [1, 1, 1]])\n",
    "X_1 = Z_1\n",
    "b_2 = np.array([[1], [1], [1]])\n",
    "\n",
    "Z_2 = np.dot(W_2, X_1) + b_2\n",
    "X_2 = softmax(Z_2) # Output Layer\n",
    "print(f\" X_2:\\n{X_2}\\n\")\n",
    "\n",
    "# Back Propagation cálculo\n",
    "X_out = X_2\n",
    "t = np.array([[0], [1], [0]]) # Valor real é o B, daí ter o segundo bit a 1\n",
    "\n",
    "G_2 = calculate_out_gradiant(X_out, t)\n",
    "W_2_new = update(W_2, 0.1, np.dot(G_2, X_1.T))\n",
    "b_2_new = update(b_2, 0.1, G_2)\n",
    "print(f\"New W_2 Weights:\\n{W_2_new}\\n\")\n",
    "print(f\"New b_2 bias:\\n{b_2_new}\\n\")\n",
    "\n",
    "G_1 = calculate_intermedian_gradiant(W_2.T, G_2)\n",
    "W_1_new = update(W_1, 0.1, np.dot(G_1, X_0.T))\n",
    "b_1_new = update(b_1, 0.1, G_1)\n",
    "print(f\"New W_1 Weights:\\n{W_1_new}\\n\")\n",
    "print(f\"New b_1 bias:\\n{b_1_new}\\n\")\n"
   ]
  }
 ],
 "metadata": {
  "kernelspec": {
   "display_name": "Python 3",
   "language": "python",
   "name": "python3"
  },
  "language_info": {
   "codemirror_mode": {
    "name": "ipython",
    "version": 3
   },
   "file_extension": ".py",
   "mimetype": "text/x-python",
   "name": "python",
   "nbconvert_exporter": "python",
   "pygments_lexer": "ipython3",
   "version": "3.10.11"
  }
 },
 "nbformat": 4,
 "nbformat_minor": 2
}
